{
 "cells": [
  {
   "cell_type": "code",
   "execution_count": 188,
   "metadata": {},
   "outputs": [],
   "source": [
    "# IMPORTING THE REQUIRED LIBRARIES -->\n",
    "\n",
    "import pandas as pd\n",
    "import numpy as np"
   ]
  },
  {
   "cell_type": "code",
   "execution_count": 189,
   "metadata": {},
   "outputs": [],
   "source": [
    "# INCLUDING THE FILE \n",
    "\n",
    "df = pd.read_csv('AQI_Data.csv')"
   ]
  },
  {
   "cell_type": "code",
   "execution_count": 190,
   "metadata": {},
   "outputs": [
    {
     "name": "stdout",
     "output_type": "stream",
     "text": [
      "    City        Date  AQI  PM2.5  PM10        NO2        CO          O3  \\\n",
      "0  Delhi  2024-01-01  152    153   151  26.509131  1.581413  123.401530   \n",
      "1  Delhi  2024-01-02  264    288   268  87.955853  1.242119  144.533790   \n",
      "2  Delhi  2024-01-03  307    344   357  94.469744  0.101480  198.520196   \n",
      "3  Delhi  2024-01-04  363    334   347  12.075618  1.097072   85.973585   \n",
      "4  Delhi  2024-01-05  237    266   250  51.046299  1.591834   47.938019   \n",
      "\n",
      "         SO2  \n",
      "0  25.062474  \n",
      "1   5.926302  \n",
      "2  32.786668  \n",
      "3   7.099955  \n",
      "4  28.140550  \n"
     ]
    }
   ],
   "source": [
    "# 1. Displaying the first 5 Rows\n",
    "\n",
    "print(df.head(5))"
   ]
  },
  {
   "cell_type": "code",
   "execution_count": 191,
   "metadata": {},
   "outputs": [
    {
     "name": "stdout",
     "output_type": "stream",
     "text": [
      "      City        Date  AQI  PM2.5  PM10        NO2        CO          O3  \\\n",
      "2556  Pune  2024-12-26   80     95    82  88.809636  0.497454  129.043801   \n",
      "2557  Pune  2024-12-27  419    448   462  26.701714  1.553582   86.973954   \n",
      "2558  Pune  2024-12-28  252    202   182  19.920962  1.599821   41.939484   \n",
      "2559  Pune  2024-12-29  365    414   410  80.815702  1.919950   39.982167   \n",
      "2560  Pune  2024-12-30  253    269   285  66.231614  0.611800   63.966705   \n",
      "2561  Pune  2024-12-31   95    140   117  99.505459  0.122817  112.774765   \n",
      "\n",
      "            SO2  \n",
      "2556   8.657624  \n",
      "2557  44.263423  \n",
      "2558  20.545087  \n",
      "2559  22.646297  \n",
      "2560  10.580135  \n",
      "2561  30.814997  \n"
     ]
    }
   ],
   "source": [
    "# 2. Displaying the last 6 rows\n",
    "\n",
    "print(df.tail(6))"
   ]
  },
  {
   "cell_type": "code",
   "execution_count": 192,
   "metadata": {},
   "outputs": [
    {
     "name": "stdout",
     "output_type": "stream",
     "text": [
      "               AQI        PM2.5         PM10          NO2           CO  \\\n",
      "count  2562.000000  2562.000000  2562.000000  2562.000000  2562.000000   \n",
      "mean    277.635051   276.738486   275.988290    54.151115     1.037476   \n",
      "std     128.603738   131.015126   131.900856    25.744072     0.560294   \n",
      "min      50.000000     2.000000   -26.000000    10.036926     0.100100   \n",
      "25%     166.250000   165.000000   166.000000    32.025372     0.545341   \n",
      "50%     276.000000   274.500000   274.000000    53.606459     1.010095   \n",
      "75%     388.750000   388.000000   386.000000    76.322683     1.533300   \n",
      "max     499.000000   543.000000   559.000000    99.974242     1.999528   \n",
      "\n",
      "                O3          SO2  \n",
      "count  2562.000000  2562.000000  \n",
      "mean    104.832673    27.746349  \n",
      "std      54.878784    12.927527  \n",
      "min      10.045129     5.000524  \n",
      "25%      58.169877    16.685076  \n",
      "50%     104.345545    27.872017  \n",
      "75%     152.515574    38.878445  \n",
      "max     199.979607    49.976055  \n"
     ]
    }
   ],
   "source": [
    "# 3. Displaying the summary statistics for all NUMERIC columns\n",
    "\n",
    "print(df.describe())"
   ]
  },
  {
   "cell_type": "code",
   "execution_count": 193,
   "metadata": {},
   "outputs": [
    {
     "name": "stdout",
     "output_type": "stream",
     "text": [
      "                  AQI       PM2.5        PM10\n",
      "Delhi      279.153005  279.898907  279.349727\n",
      "Mumbai     287.797814  286.046448  286.669399\n",
      "Kolkata    265.901639  264.663934  263.644809\n",
      "Chennai    274.314208  275.139344  273.265027\n",
      "Bangalore  279.543716  278.469945  277.759563\n",
      "Hyderabad  280.355191  277.825137  276.456284\n",
      "Pune       276.379781  275.125683  274.773224\n"
     ]
    }
   ],
   "source": [
    "# 4. Using Numpy to compute the mean AQI, PM2.5, and PM10 values for each city\n",
    "\n",
    "cities = df['City'].unique()\n",
    "\n",
    "mean_values_np = {\n",
    "    city: {\n",
    "        'AQI': np.mean(df.loc[df['City'] == city, 'AQI']),\n",
    "        'PM2.5': np.mean(df.loc[df['City'] == city, 'PM2.5']),\n",
    "        'PM10': np.mean(df.loc[df['City'] == city, 'PM10'])\n",
    "    }\n",
    "    for city in cities\n",
    "}\n",
    "\n",
    "data = pd.DataFrame(mean_values_np).T\n",
    "print(data)"
   ]
  },
  {
   "cell_type": "code",
   "execution_count": 194,
   "metadata": {},
   "outputs": [
    {
     "name": "stdout",
     "output_type": "stream",
     "text": [
      "      City        Date  AQI  PM2.5  PM10        NO2        CO          O3  \\\n",
      "0    Delhi  2024-01-01  152    153   151  26.509131  1.581413  123.401530   \n",
      "1    Delhi  2024-01-02  264    288   268  87.955853  1.242119  144.533790   \n",
      "2    Delhi  2024-01-03  307    344   357  94.469744  0.101480  198.520196   \n",
      "3    Delhi  2024-01-04  363    334   347  12.075618  1.097072   85.973585   \n",
      "4    Delhi  2024-01-05  237    266   250  51.046299  1.591834   47.938019   \n",
      "..     ...         ...  ...    ...   ...        ...       ...         ...   \n",
      "361  Delhi  2024-12-27  165    206   189  31.491659  0.957355  197.148035   \n",
      "362  Delhi  2024-12-28  496    511   505  18.473672  0.752960   63.661871   \n",
      "363  Delhi  2024-12-29  276    231   239  69.110209  1.661996   82.279801   \n",
      "364  Delhi  2024-12-30  356    316   341  26.805097  0.278669   77.767485   \n",
      "365  Delhi  2024-12-31  134    155   179  67.840719  0.472098  180.422007   \n",
      "\n",
      "           SO2  \n",
      "0    25.062474  \n",
      "1     5.926302  \n",
      "2    32.786668  \n",
      "3     7.099955  \n",
      "4    28.140550  \n",
      "..         ...  \n",
      "361  39.740561  \n",
      "362  22.582776  \n",
      "363  39.902533  \n",
      "364  39.086685  \n",
      "365  28.408574  \n",
      "\n",
      "[366 rows x 9 columns]\n"
     ]
    }
   ],
   "source": [
    "# 5. Display all rows where the city is 'Delhi'\n",
    "\n",
    "Delhi_Rows = df[df['City'] == 'Delhi']\n",
    "print(Delhi_Rows)"
   ]
  },
  {
   "cell_type": "code",
   "execution_count": 195,
   "metadata": {},
   "outputs": [
    {
     "name": "stdout",
     "output_type": "stream",
     "text": [
      "    City  AQI  PM2.5\n",
      "0  Delhi  152    153\n",
      "1  Delhi  264    288\n",
      "2  Delhi  307    344\n",
      "3  Delhi  363    334\n",
      "4  Delhi  237    266\n",
      "5  Delhi  369    321\n",
      "6  Delhi  365    328\n",
      "7  Delhi  493    513\n",
      "8  Delhi  409    362\n",
      "9  Delhi  451    490\n"
     ]
    }
   ],
   "source": [
    "# 6. Display the first 10 rows, showing only the columns City, AQI, and PM2.5\n",
    "\n",
    "print(Delhi_Rows[['City', 'AQI', 'PM2.5']].head(10))"
   ]
  },
  {
   "cell_type": "code",
   "execution_count": 196,
   "metadata": {},
   "outputs": [
    {
     "name": "stdout",
     "output_type": "stream",
     "text": [
      "      City        Date  AQI  PM2.5  PM10        NO2        CO          O3  \\\n",
      "2    Delhi  2024-01-03  307    344   357  94.469744  0.101480  198.520196   \n",
      "3    Delhi  2024-01-04  363    334   347  12.075618  1.097072   85.973585   \n",
      "5    Delhi  2024-01-06  369    321   327  64.679037  0.423996   22.359803   \n",
      "6    Delhi  2024-01-07  365    328   347  44.687485  0.130336   53.869827   \n",
      "7    Delhi  2024-01-08  493    513   526  54.565922  0.165338  182.770876   \n",
      "..     ...         ...  ...    ...   ...        ...       ...         ...   \n",
      "354  Delhi  2024-12-20  474    456   475  74.800724  0.894181   26.879647   \n",
      "355  Delhi  2024-12-21  338    368   361  20.329198  1.734265  147.334718   \n",
      "360  Delhi  2024-12-26  432    449   464  77.869691  0.134097   33.988219   \n",
      "362  Delhi  2024-12-28  496    511   505  18.473672  0.752960   63.661871   \n",
      "364  Delhi  2024-12-30  356    316   341  26.805097  0.278669   77.767485   \n",
      "\n",
      "           SO2  \n",
      "2    32.786668  \n",
      "3     7.099955  \n",
      "5    47.699849  \n",
      "6    15.846146  \n",
      "7    16.645099  \n",
      "..         ...  \n",
      "354  35.768935  \n",
      "355   8.045076  \n",
      "360  34.683321  \n",
      "362  22.582776  \n",
      "364  39.086685  \n",
      "\n",
      "[165 rows x 9 columns]\n"
     ]
    }
   ],
   "source": [
    "# 7. Using NumPy to filter out and display rows where AQI > 300 and PM10 > 200\n",
    "\n",
    "aqi_filter = np.logical_and(Delhi_Rows['AQI'] > 300, Delhi_Rows['PM10'] > 200)\n",
    "print(Delhi_Rows[aqi_filter])"
   ]
  }
 ],
 "metadata": {
  "kernelspec": {
   "display_name": "Python 3",
   "language": "python",
   "name": "python3"
  },
  "language_info": {
   "codemirror_mode": {
    "name": "ipython",
    "version": 3
   },
   "file_extension": ".py",
   "mimetype": "text/x-python",
   "name": "python",
   "nbconvert_exporter": "python",
   "pygments_lexer": "ipython3",
   "version": "3.12.5"
  }
 },
 "nbformat": 4,
 "nbformat_minor": 2
}
